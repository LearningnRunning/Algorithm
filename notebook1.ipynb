{
 "cells": [
  {
   "cell_type": "code",
   "execution_count": 1,
   "metadata": {},
   "outputs": [
    {
     "name": "stderr",
     "output_type": "stream",
     "text": [
      "C:\\Users\\max_s\\AppData\\Local\\Temp\\ipykernel_21804\\1515476212.py:17: DeprecationWarning: executable_path has been deprecated, please pass in a Service object\n",
      "  driver = webdriver.Chrome(executable_path=chromedriver_path)\n"
     ]
    }
   ],
   "source": [
    "import os\n",
    "from time import sleep\n",
    "\n",
    "import requests\n",
    "from selenium import webdriver\n",
    "from selenium.webdriver.common.by import By\n",
    "from selenium.webdriver.support import expected_conditions as EC\n",
    "from selenium.webdriver.support.ui import WebDriverWait\n",
    "\n",
    "options = webdriver.ChromeOptions()\n",
    "options.add_argument(\"headless\")\n",
    "options.add_argument(\"lang=ko_KR\")\n",
    "chromedriver_path = \"D:\\ITStudy\\CatchV\\crawler\\chromedriver.exe\"\n",
    "##############################################################  ############\n",
    "##################### variable related selenium ##########################\n",
    "##########################################################################\n",
    "driver = webdriver.Chrome(executable_path=chromedriver_path)\n",
    "\n"
   ]
  },
  {
   "cell_type": "code",
   "execution_count": 53,
   "metadata": {},
   "outputs": [
    {
     "data": {
      "text/plain": [
       "'[3차] 파일명 정렬_2018 KAKAO BLIND RECRUITMENT'"
      ]
     },
     "execution_count": 53,
     "metadata": {},
     "output_type": "execute_result"
    }
   ],
   "source": [
    "ttls = driver.find_elements(\n",
    "                By.XPATH, '//td[@class=\"title\"]'\n",
    "            )\n",
    "ttls[0].text.replace('\\n','_')"
   ]
  },
  {
   "cell_type": "code",
   "execution_count": 73,
   "metadata": {},
   "outputs": [
    {
     "name": "stdout",
     "output_type": "stream",
     "text": [
      "두_큐_합_같게_만들기_2022_KAKAO_TECH_INTERNSHIP\n",
      "거리두기_확인하기_2021_카카오_채용연계형_인턴십\n",
      "멀쩡한_사각형_SummerWinter_Coding(2019)\n",
      "전력망을_둘로_나누기_완전탐색\n",
      "문자열_압축_2020_KAKAO_BLIND_RECRUITMENT\n",
      "하노이의_탑_연습문제\n",
      "후보키_2019_KAKAO_BLIND_RECRUITMENT\n",
      "조이스틱_탐욕법(Greedy)\n",
      "N-Queen_연습문제\n",
      "순위_검색_2021_KAKAO_BLIND_RECRUITMENT\n",
      "숫자_블록_연습문제\n",
      "양궁대회_2022_KAKAO_BLIND_RECRUITMENT\n",
      "3_x_n_타일링_연습문제\n",
      "교점에_별_만들기_위클리_챌린지\n",
      "빛의_경로_사이클_월간_코드_챌린지_시즌3\n"
     ]
    }
   ],
   "source": [
    "path = \"./programmers/\"\n",
    "wait = WebDriverWait(driver, 5)\n",
    "element = wait.until(EC.element_to_be_clickable((By.ID, \"edu-service-app-main\")))\n",
    "\n",
    "ttls = driver.find_elements(\n",
    "    By.XPATH, '//td[@class=\"title\"]'\n",
    ")\n",
    "for ttl in ttls:\n",
    "    ttl = ttl.text.replace('\\n','_')\n",
    "    ttl = ttl.replace(' ','_')\n",
    "    ttl = ttl.translate(str.maketrans('', '', '\\/:*?\"<>|'))\n",
    "    print(ttl)\n",
    "    newpath = path + ttl\n",
    "    if not os.path.exists(newpath):\n",
    "        os.makedirs(newpath)\n",
    "        open(newpath+\"/problem_description.txt\",'w')\n",
    "        open(newpath+\"/solution.py\",'w')"
   ]
  },
  {
   "cell_type": "code",
   "execution_count": null,
   "metadata": {},
   "outputs": [],
   "source": [
    "\n",
    "input_string = '!hi. wh?at is the weat[h]er lik?e. !@##$%%^^&*)_+{}|?\"'\n",
    "output_string = input_string.translate(str.maketrans('', '', string.punctuation))"
   ]
  },
  {
   "cell_type": "code",
   "execution_count": 69,
   "metadata": {},
   "outputs": [
    {
     "data": {
      "text/plain": [
       "'.programmers행렬_테두리_회전하기_2021_Dev-Matching_웹_백엔드_개발자(상반기)'"
      ]
     },
     "execution_count": 69,
     "metadata": {},
     "output_type": "execute_result"
    }
   ],
   "source": [
    "import re\n",
    "import string\n",
    "str = './programmers/행렬_테두리_회전하기_2021_Dev-Matching:_웹_백엔드_개발자(상반기)'\n",
    "output_string = str.translate(str.maketrans('', '', '\\/:*?\"<>|'))\n",
    "output_string"
   ]
  },
  {
   "cell_type": "code",
   "execution_count": 63,
   "metadata": {},
   "outputs": [
    {
     "data": {
      "text/plain": [
       "'!\"#$%&\\'()*+,-./:;<=>?@[\\\\]^_`{|}~'"
      ]
     },
     "execution_count": 63,
     "metadata": {},
     "output_type": "execute_result"
    }
   ],
   "source": [
    "string.punctuation"
   ]
  },
  {
   "cell_type": "code",
   "execution_count": 62,
   "metadata": {},
   "outputs": [
    {
     "data": {
      "text/plain": [
       "'[3차] 파일명 정렬_2018 KAKAO BLIND RECRUITMENT'"
      ]
     },
     "execution_count": 62,
     "metadata": {},
     "output_type": "execute_result"
    }
   ],
   "source": [
    "ttls[0].text.replace('\\n','_')"
   ]
  },
  {
   "cell_type": "code",
   "execution_count": 74,
   "metadata": {},
   "outputs": [],
   "source": [
    "\n",
    "import string\n",
    "def main(page,level, languages):\n",
    "    path = \"./programmers/\"\n",
    "    url = \"https://school.programmers.co.kr/learn/challenges?page={0}&levels={1}&languages={2}&order=acceptance_desc\".format(page, level,languages)\n",
    "    driver.get(url)\n",
    "    for i in range(1, 5):\n",
    "        print(i)\n",
    "        try:\n",
    "            \n",
    "            sleep(2)\n",
    "            # wait = WebDriverWait(driver, 5)\n",
    "            # element = wait.until(EC.element_to_be_clickable((By.ID, \"edu-service-app-main\")))\n",
    "\n",
    "            ttls = driver.find_elements(\n",
    "                By.XPATH, '//td[@class=\"title\"]'\n",
    "            )\n",
    "            print(ttls[0])\n",
    "            for ttl in ttls:\n",
    "                ttl = ttl.text.replace('\\n','_')\n",
    "                ttl = ttl.replace(' ','_')\n",
    "                ttl = ttl.translate(str.maketrans('', '', '\\/:*?\"<>|'))\n",
    "                newpath = path + ttl\n",
    "                print(newpath)\n",
    "                if not os.path.exists(newpath):\n",
    "                    os.makedirs(newpath)\n",
    "                    open(newpath+\"/problem_description.txt\",'w')\n",
    "                    open(newpath+\"/solution.py\",'w')\n",
    "            nxtbtn = driver.find_elements(\n",
    "                By.XPATH, '//button[@aria-label=\"다음 페이지\"]'\n",
    "            )\n",
    "            print('다음페이지')\n",
    "            nxtbtn[0].click()\n",
    "        except:\n",
    "            print('에러')\n",
    "            pass\n"
   ]
  },
  {
   "cell_type": "code",
   "execution_count": 75,
   "metadata": {},
   "outputs": [
    {
     "name": "stdout",
     "output_type": "stream",
     "text": [
      "1\n",
      "<selenium.webdriver.remote.webelement.WebElement (session=\"8e0913e3650ba3cc178efb497da86eb3\", element=\"3bd3ab09-cf3c-481c-b957-1306a0d6e8c8\")>\n",
      "./programmers/정수_삼각형_동적계획법(Dynamic_Programming)\n",
      "./programmers/이중우선순위큐_힙(Heap)\n",
      "./programmers/최고의_집합_연습문제\n",
      "./programmers/야근_지수_연습문제\n",
      "./programmers/네트워크_깊이너비_우선_탐색(DFSBFS)\n",
      "./programmers/단어_변환_깊이너비_우선_탐색(DFSBFS)\n",
      "./programmers/등굣길_동적계획법(Dynamic_Programming)\n",
      "./programmers/단속카메라_탐욕법(Greedy)\n",
      "./programmers/베스트앨범_해시\n",
      "./programmers/숫자_게임_SummerWinter_Coding(~2018)\n",
      "./programmers/기지국_설치_SummerWinter_Coding(~2018)\n",
      "./programmers/불량_사용자_2019_카카오_개발자_겨울_인턴십\n",
      "./programmers/보석_쇼핑_2020_카카오_인턴십\n",
      "./programmers/징검다리_건너기_2019_카카오_개발자_겨울_인턴십\n",
      "./programmers/가장_먼_노드_그래프\n",
      "./programmers/섬_연결하기_탐욕법(Greedy)\n",
      "./programmers/스티커_모으기(2)_SummerWinter_Coding(~2018)\n",
      "./programmers/디스크_컨트롤러_힙(Heap)\n",
      "./programmers/합승_택시_요금_2021_KAKAO_BLIND_RECRUITMENT\n",
      "./programmers/여행경로_깊이너비_우선_탐색(DFSBFS)\n",
      "다음페이지\n",
      "2\n",
      "<selenium.webdriver.remote.webelement.WebElement (session=\"8e0913e3650ba3cc178efb497da86eb3\", element=\"c4ff7730-38c0-47b2-8a4a-4bad4a0cf45a\")>\n",
      "./programmers/경주로_건설_2020_카카오_인턴십\n",
      "./programmers/입국심사_이분탐색\n",
      "./programmers/가장_긴_팰린드롬_연습문제\n",
      "./programmers/[1차]_셔틀버스_2018_KAKAO_BLIND_RECRUITMENT\n",
      "./programmers/자물쇠와_열쇠_2020_KAKAO_BLIND_RECRUITMENT\n",
      "./programmers/다단계_칫솔_판매_2021_Dev-Matching_웹_백엔드_개발자(상반기)\n",
      "./programmers/순위_그래프\n",
      "./programmers/풍선_터트리기_월간_코드_챌린지_시즌1\n",
      "./programmers/거스름돈_연습문제\n",
      "./programmers/파괴되지_않은_건물_2022_KAKAO_BLIND_RECRUITMENT\n",
      "./programmers/길_찾기_게임_2019_KAKAO_BLIND_RECRUITMENT\n",
      "./programmers/표_편집_2021_카카오_채용연계형_인턴십\n",
      "./programmers/기둥과_보_설치_2020_KAKAO_BLIND_RECRUITMENT\n",
      "./programmers/광고_삽입_2021_KAKAO_BLIND_RECRUITMENT\n",
      "./programmers/양과_늑대_2022_KAKAO_BLIND_RECRUITMENT\n",
      "./programmers/외벽_점검_2020_KAKAO_BLIND_RECRUITMENT\n",
      "./programmers/110_옮기기_월간_코드_챌린지_시즌2\n",
      "./programmers/스타_수열_월간_코드_챌린지_시즌1\n",
      "./programmers/N으로_표현_동적계획법(Dynamic_Programming)\n",
      "./programmers/블록_이동하기_2020_KAKAO_BLIND_RECRUITMENT\n",
      "다음페이지\n",
      "3\n",
      "<selenium.webdriver.remote.webelement.WebElement (session=\"8e0913e3650ba3cc178efb497da86eb3\", element=\"e3749fea-a2bc-4013-86ed-f274d5b45fc5\")>\n",
      "./programmers/모두_0으로_만들기_월간_코드_챌린지_시즌2\n",
      "./programmers/등산코스_정하기_2022_KAKAO_TECH_INTERNSHIP\n",
      "./programmers/선입_선출_스케줄링_연습문제\n",
      "./programmers/매칭_점수_2019_KAKAO_BLIND_RECRUITMENT\n",
      "./programmers/[1차]_추석_트래픽_2018_KAKAO_BLIND_RECRUITMENT\n",
      "./programmers/아이템_줍기_깊이너비_우선_탐색(DFSBFS)\n",
      "./programmers/공_이동_시뮬레이션_월간_코드_챌린지_시즌3\n",
      "./programmers/최적의_행렬_곱셈_연습문제\n",
      "./programmers/카드_짝_맞추기_2021_KAKAO_BLIND_RECRUITMENT\n",
      "./programmers/코딩_테스트_공부_2022_KAKAO_TECH_INTERNSHIP\n",
      "./programmers/금과_은_운반하기_월간_코드_챌린지_시즌3\n",
      "./programmers/퍼즐_조각_채우기_깊이너비_우선_탐색(DFSBFS)\n",
      "./programmers/사라지는_발판_2022_KAKAO_BLIND_RECRUITMENT\n",
      "다음페이지\n",
      "에러\n",
      "4\n",
      "<selenium.webdriver.remote.webelement.WebElement (session=\"8e0913e3650ba3cc178efb497da86eb3\", element=\"e3749fea-a2bc-4013-86ed-f274d5b45fc5\")>\n",
      "./programmers/모두_0으로_만들기_월간_코드_챌린지_시즌2\n",
      "./programmers/등산코스_정하기_2022_KAKAO_TECH_INTERNSHIP\n",
      "./programmers/선입_선출_스케줄링_연습문제\n",
      "./programmers/매칭_점수_2019_KAKAO_BLIND_RECRUITMENT\n",
      "./programmers/[1차]_추석_트래픽_2018_KAKAO_BLIND_RECRUITMENT\n",
      "./programmers/아이템_줍기_깊이너비_우선_탐색(DFSBFS)\n",
      "./programmers/공_이동_시뮬레이션_월간_코드_챌린지_시즌3\n",
      "./programmers/최적의_행렬_곱셈_연습문제\n",
      "./programmers/카드_짝_맞추기_2021_KAKAO_BLIND_RECRUITMENT\n",
      "./programmers/코딩_테스트_공부_2022_KAKAO_TECH_INTERNSHIP\n",
      "./programmers/금과_은_운반하기_월간_코드_챌린지_시즌3\n",
      "./programmers/퍼즐_조각_채우기_깊이너비_우선_탐색(DFSBFS)\n",
      "./programmers/사라지는_발판_2022_KAKAO_BLIND_RECRUITMENT\n",
      "다음페이지\n",
      "에러\n"
     ]
    }
   ],
   "source": [
    "main(1, 3, 'python3')"
   ]
  },
  {
   "cell_type": "code",
   "execution_count": null,
   "metadata": {},
   "outputs": [],
   "source": [
    "if __name__ == \"__main__\":\n",
    "    main()"
   ]
  }
 ],
 "metadata": {
  "kernelspec": {
   "display_name": "Python 3.9.13 ('base')",
   "language": "python",
   "name": "python3"
  },
  "language_info": {
   "codemirror_mode": {
    "name": "ipython",
    "version": 3
   },
   "file_extension": ".py",
   "mimetype": "text/x-python",
   "name": "python",
   "nbconvert_exporter": "python",
   "pygments_lexer": "ipython3",
   "version": "3.9.13"
  },
  "orig_nbformat": 4,
  "vscode": {
   "interpreter": {
    "hash": "605192d1bf6088d93e0a94bc035f487c9fe861673b2d7b3adeaf97eccf80198f"
   }
  }
 },
 "nbformat": 4,
 "nbformat_minor": 2
}
