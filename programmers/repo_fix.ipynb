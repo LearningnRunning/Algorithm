{
 "cells": [
  {
   "cell_type": "markdown",
   "metadata": {},
   "source": [
    "# 파일 확장자 일괄 수정"
   ]
  },
  {
   "cell_type": "code",
   "execution_count": 20,
   "metadata": {},
   "outputs": [],
   "source": [
    "import os\n",
    "path = 'D:/GitHub/Algorithm/programmers/Level3' # 표적인 디렉토리\n",
    "dirlist = os.listdir(path) # 디렉토리 목록\n",
    "\n",
    "for dir in dirlist: # 디렉토리 안의 파일\n",
    "    pathN = path+'/'+dir\n",
    "    if os.path.exists(pathN+'/problem_description.txt'):\n",
    "        os.rename(pathN+'/problem_description.txt', pathN+'/problem_description.md')"
   ]
  }
 ],
 "metadata": {
  "kernelspec": {
   "display_name": "Python 3.9.13 ('base')",
   "language": "python",
   "name": "python3"
  },
  "language_info": {
   "codemirror_mode": {
    "name": "ipython",
    "version": 3
   },
   "file_extension": ".py",
   "mimetype": "text/x-python",
   "name": "python",
   "nbconvert_exporter": "python",
   "pygments_lexer": "ipython3",
   "version": "3.9.13"
  },
  "orig_nbformat": 4,
  "vscode": {
   "interpreter": {
    "hash": "605192d1bf6088d93e0a94bc035f487c9fe861673b2d7b3adeaf97eccf80198f"
   }
  }
 },
 "nbformat": 4,
 "nbformat_minor": 2
}
