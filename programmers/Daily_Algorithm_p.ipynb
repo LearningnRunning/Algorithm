{
 "cells": [
  {
   "cell_type": "markdown",
   "metadata": {},
   "source": [
    "# Daily Algorithm"
   ]
  },
  {
   "cell_type": "markdown",
   "metadata": {},
   "source": [
    "## Level 2"
   ]
  },
  {
   "cell_type": "markdown",
   "metadata": {},
   "source": [
    "### 최댓값과 최솟값"
   ]
  },
  {
   "cell_type": "code",
   "execution_count": null,
   "metadata": {},
   "outputs": [],
   "source": [
    "def solution(s):\n",
    "    tmp_lst = list(map(int, s.split()))\n",
    "    answer = '{0} {1}'.format(min(tmp_lst),max(tmp_lst))\n",
    "    return answer"
   ]
  },
  {
   "cell_type": "markdown",
   "metadata": {},
   "source": [
    "### JadenCase 문자열 만들기\n"
   ]
  },
  {
   "cell_type": "markdown",
   "metadata": {},
   "source": [
    "#### 오답\n",
    "- [체점결과] 합계: 44.4 / 100.0\n",
    "\n",
    "제한 조건\n",
    "- 공백문자가 연속해서 나올 수 있습니다.\n",
    "    - 공백이 2개 이상 나왔을 때 똑같이 옮길 수 없음"
   ]
  },
  {
   "cell_type": "code",
   "execution_count": 28,
   "metadata": {},
   "outputs": [],
   "source": [
    "from collections import deque\n",
    "def solution(s):\n",
    "    tmp_lst = deque(s.split())\n",
    "    answer = []\n",
    "    for _ in range(len(tmp_lst)):\n",
    "        tmp = tmp_lst.popleft()\n",
    "        print(tmp[1:])\n",
    "        answer.append(tmp[0].upper()+tmp[1:].lower())\n",
    "    return \" \".join(answer)"
   ]
  },
  {
   "cell_type": "markdown",
   "metadata": {},
   "source": [
    "#### 수정한 정답\n",
    "\n"
   ]
  },
  {
   "cell_type": "code",
   "execution_count": 10,
   "metadata": {},
   "outputs": [
    {
     "data": {
      "text/plain": [
       "32"
      ]
     },
     "execution_count": 10,
     "metadata": {},
     "output_type": "execute_result"
    }
   ],
   "source": [
    "from collections import deque\n",
    "def solution(s):\n",
    "    answer = s[0].upper() \n",
    "    for i in range(1, len(s)):\n",
    "        if ord(s[i-1]) == 32:\n",
    "            answer += s[i].upper()\n",
    "        else:\n",
    "            answer += s[i].lower()\n",
    "    return answer"
   ]
  },
  {
   "cell_type": "markdown",
   "metadata": {},
   "source": [
    "### 이진 변환 반복하기\n",
    "- 이진 변환의 횟수와 변환 과정에서 제거된 모든 0의 개"
   ]
  },
  {
   "cell_type": "code",
   "execution_count": 34,
   "metadata": {},
   "outputs": [],
   "source": [
    "def tmp_cnt(s):\n",
    "    s_cnt = s.count(\"0\")\n",
    "    s = s.replace(\"0\",\"\")\n",
    "    return s_cnt, len(s)\n",
    "\n",
    "def solution(s):\n",
    "    zero_cnt = 0\n",
    "    bi_cnt = 0\n",
    "    while True:\n",
    "        if s == '1':\n",
    "            break\n",
    "        s_cnt, s_tmp = tmp_cnt(s)\n",
    "        bi_cnt += 1\n",
    "        zero_cnt += s_cnt\n",
    "        s = bin(s_tmp)[2:]\n",
    "    answer = [bi_cnt, zero_cnt]\n",
    "    return answer"
   ]
  },
  {
   "cell_type": "markdown",
   "metadata": {},
   "source": [
    "### 최솟값 만들기\n",
    "- 최솟값을 만드려면?\n",
    "    - A 배열의 가장 작은 수 * B 배열의 가장 큰 수의 곱"
   ]
  },
  {
   "cell_type": "code",
   "execution_count": null,
   "metadata": {},
   "outputs": [],
   "source": [
    "def solution(A,B):\n",
    "    A.sort(), B.sort(reverse= True)\n",
    "    answer = 0\n",
    "    for i,j in zip(A,B):\n",
    "        answer += i*j\n",
    "    return answer"
   ]
  },
  {
   "cell_type": "markdown",
   "metadata": {},
   "source": [
    "#### 다른사람 코드\n",
    "- List comprehension 이용"
   ]
  },
  {
   "cell_type": "code",
   "execution_count": null,
   "metadata": {},
   "outputs": [],
   "source": [
    "def getMinSum(A,B):\n",
    "    return sum(a*b for a, b in zip(sorted(A), sorted(B, reverse = True)))"
   ]
  },
  {
   "cell_type": "markdown",
   "metadata": {},
   "source": [
    "### (스택/큐) 올바른 괄호\n"
   ]
  },
  {
   "cell_type": "markdown",
   "metadata": {},
   "source": [
    "#### 효율성 실패"
   ]
  },
  {
   "cell_type": "code",
   "execution_count": null,
   "metadata": {},
   "outputs": [],
   "source": [
    "def solution(s):\n",
    "    answer = True\n",
    "    while s.find('()') != -1:\n",
    "        s = s[0 : s.find('()') : ] + s[s.find('()') + 2 : :]\n",
    "    if len(s) != 0: #문자열에 남은 괄호가 없다면 YES\n",
    "        answer = False\n",
    "    return answer"
   ]
  },
  {
   "cell_type": "code",
   "execution_count": null,
   "metadata": {},
   "outputs": [],
   "source": [
    "def solution(s):\n",
    "    answer = True\n",
    "    while s.find('()') != -1:\n",
    "        s = s.replae('()','')\n",
    "    if len(s) != 0: #문자열에 남은 괄호가 없다면 YES\n",
    "        answer = False\n",
    "    return answer"
   ]
  },
  {
   "cell_type": "markdown",
   "metadata": {},
   "source": [
    "#### 다른 사람 코드"
   ]
  },
  {
   "cell_type": "code",
   "execution_count": null,
   "metadata": {},
   "outputs": [],
   "source": [
    "from collections import deque\n",
    "def solution(s):\n",
    "    answer = True\n",
    "    x=0 \n",
    "    que =deque(s) \n",
    "    while(que):\n",
    "        que_tmp = que.popleft() \n",
    "        if que_tmp == \"(\" :  \n",
    "            x+=1\n",
    "        else :  \n",
    "            x-=1\n",
    "        if x < 0 : \n",
    "            answer = False\n",
    "            break \n",
    "    if x > 0 : \n",
    "        answer = False\n",
    "    return answer "
   ]
  }
 ],
 "metadata": {
  "kernelspec": {
   "display_name": "Python 3.9.7 ('base')",
   "language": "python",
   "name": "python3"
  },
  "language_info": {
   "codemirror_mode": {
    "name": "ipython",
    "version": 3
   },
   "file_extension": ".py",
   "mimetype": "text/x-python",
   "name": "python",
   "nbconvert_exporter": "python",
   "pygments_lexer": "ipython3",
   "version": "3.9.7"
  },
  "orig_nbformat": 4,
  "vscode": {
   "interpreter": {
    "hash": "605192d1bf6088d93e0a94bc035f487c9fe861673b2d7b3adeaf97eccf80198f"
   }
  }
 },
 "nbformat": 4,
 "nbformat_minor": 2
}
